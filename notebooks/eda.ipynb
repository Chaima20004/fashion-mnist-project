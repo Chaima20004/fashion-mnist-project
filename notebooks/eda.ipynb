{
 "cells": [
  {
   "cell_type": "code",
   "execution_count": null,
   "metadata": {},
   "outputs": [],
   "source": [
    "# Setup iniziale\n",
    "import os\n",
    "os.makedirs('../images', exist_ok=True)\n",
    "\n",
    "# Analisi dati\n",
    "from tensorflow.keras.datasets import fashion_mnist\n",
    "import matplotlib.pyplot as plt\n",
    "\n",
    "(_, y_train), _ = fashion_mnist.load_data()\n",
    "classes = ['T-shirt', 'Trouser', 'Pullover', 'Dress', 'Coat', \n",
    "          'Sandal', 'Shirt', 'Sneaker', 'Bag', 'Ankle boot']\n",
    "\n",
    "# Grafico\n",
    "plt.figure(figsize=(10,5))\n",
    "plt.hist(y_train, bins=10, rwidth=0.8)\n",
    "plt.xticks(range(10), classes, rotation=45)\n",
    "plt.title('Distribuzione Classi')\n",
    "plt.savefig('../images/class_distribution.png', bbox_inches='tight')\n",
    "print('Grafico salvato in ../images/class_distribution.png')"
   ]
  }
 ]
}
